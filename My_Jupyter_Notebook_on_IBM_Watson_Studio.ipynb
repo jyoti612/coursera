{
  "nbformat": 4,
  "nbformat_minor": 0,
  "metadata": {
    "colab": {
      "provenance": [],
      "authorship_tag": "ABX9TyOMvjHT2x6yT/6flpW5kjf5",
      "include_colab_link": true
    },
    "kernelspec": {
      "name": "python3",
      "display_name": "Python 3"
    },
    "language_info": {
      "name": "python"
    }
  },
  "cells": [
    {
      "cell_type": "markdown",
      "metadata": {
        "id": "view-in-github",
        "colab_type": "text"
      },
      "source": [
        "<a href=\"https://colab.research.google.com/github/jyoti612/coursera/blob/main/My_Jupyter_Notebook_on_IBM_Watson_Studio.ipynb\" target=\"_parent\"><img src=\"https://colab.research.google.com/assets/colab-badge.svg\" alt=\"Open In Colab\"/></a>"
      ]
    },
    {
      "cell_type": "markdown",
      "source": [
        "<h1>My Jupyter Notebook on IBM Watson Studio<h1>"
      ],
      "metadata": {
        "id": "8BsqFKd0bWA-"
      }
    },
    {
      "cell_type": "markdown",
      "source": [
        "**JYOTI GUPTA** "
      ],
      "metadata": {
        "id": "WrWUr7ESbddC"
      }
    },
    {
      "cell_type": "markdown",
      "source": [
        "**WANT TO BE A DATA SCIENTIST**"
      ],
      "metadata": {
        "id": "148eobSBbgac"
      }
    },
    {
      "cell_type": "markdown",
      "source": [
        "*I'm especially interested in artificial intelligence after learning about machine learning in my studies, and I'm eager to use AI in a more practical capacity.*\n",
        "\n",
        "\n",
        "\n"
      ],
      "metadata": {
        "id": "Bu1EoQVQbm8s"
      }
    },
    {
      "cell_type": "markdown",
      "source": [
        "<h3>The Following Code will generate a random integer between 80 and 100<h3>"
      ],
      "metadata": {
        "id": "7ydhb32mbpu9"
      }
    },
    {
      "cell_type": "code",
      "source": [
        "import random\n",
        "\n",
        "Random_int = random.randint(60,100)\n",
        "\n",
        "print(Random_int)"
      ],
      "metadata": {
        "colab": {
          "base_uri": "https://localhost:8080/"
        },
        "id": "FWWOiPpPbi9_",
        "outputId": "a372ea91-9351-47a0-bf52-86e86cc579af"
      },
      "execution_count": 11,
      "outputs": [
        {
          "output_type": "stream",
          "name": "stdout",
          "text": [
            "66\n"
          ]
        }
      ]
    }
  ]
}